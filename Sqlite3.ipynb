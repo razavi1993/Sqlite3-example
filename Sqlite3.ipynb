{
 "cells": [
  {
   "cell_type": "code",
   "execution_count": 1,
   "id": "301ea89a-3d14-40fb-81dd-e13e66b8f82b",
   "metadata": {
    "execution": {
     "iopub.execute_input": "2024-09-19T06:37:19.457457Z",
     "iopub.status.busy": "2024-09-19T06:37:19.456473Z",
     "iopub.status.idle": "2024-09-19T06:37:19.464616Z",
     "shell.execute_reply": "2024-09-19T06:37:19.463592Z",
     "shell.execute_reply.started": "2024-09-19T06:37:19.457457Z"
    }
   },
   "outputs": [],
   "source": [
    "import sqlite3"
   ]
  },
  {
   "cell_type": "code",
   "execution_count": 2,
   "id": "70ecdba3-5ceb-413a-ae6b-39766dcc7627",
   "metadata": {
    "execution": {
     "iopub.execute_input": "2024-09-19T06:38:17.536297Z",
     "iopub.status.busy": "2024-09-19T06:38:17.535299Z",
     "iopub.status.idle": "2024-09-19T06:38:17.543548Z",
     "shell.execute_reply": "2024-09-19T06:38:17.542552Z",
     "shell.execute_reply.started": "2024-09-19T06:38:17.536297Z"
    }
   },
   "outputs": [],
   "source": [
    "new_conn = sqlite3.connect(\"my_database.db\")"
   ]
  },
  {
   "cell_type": "code",
   "execution_count": 3,
   "id": "15e32c7e-c10c-4a7c-aff5-04e6b79b273b",
   "metadata": {
    "execution": {
     "iopub.execute_input": "2024-09-19T06:38:54.542895Z",
     "iopub.status.busy": "2024-09-19T06:38:54.540911Z",
     "iopub.status.idle": "2024-09-19T06:38:54.548996Z",
     "shell.execute_reply": "2024-09-19T06:38:54.547972Z",
     "shell.execute_reply.started": "2024-09-19T06:38:54.542895Z"
    }
   },
   "outputs": [],
   "source": [
    "new_cur = new_conn.cursor()"
   ]
  },
  {
   "cell_type": "code",
   "execution_count": 4,
   "id": "382be3fc-ab8b-4ffc-9659-4fa3f0e58131",
   "metadata": {
    "execution": {
     "iopub.execute_input": "2024-09-19T06:40:30.705979Z",
     "iopub.status.busy": "2024-09-19T06:40:30.704952Z",
     "iopub.status.idle": "2024-09-19T06:40:30.731990Z",
     "shell.execute_reply": "2024-09-19T06:40:30.730964Z",
     "shell.execute_reply.started": "2024-09-19T06:40:30.705979Z"
    }
   },
   "outputs": [
    {
     "data": {
      "text/plain": [
       "<sqlite3.Cursor at 0x1e57a403cc0>"
      ]
     },
     "execution_count": 4,
     "metadata": {},
     "output_type": "execute_result"
    }
   ],
   "source": [
    "new_cur.execute(\"CREATE TABLE clubs (club TEXT, city TEXT, ucl INT);\")"
   ]
  },
  {
   "cell_type": "code",
   "execution_count": 5,
   "id": "4902bcf6-2fe2-4d7d-b259-f3ac7c24b04b",
   "metadata": {
    "execution": {
     "iopub.execute_input": "2024-09-19T06:42:07.155810Z",
     "iopub.status.busy": "2024-09-19T06:42:07.154813Z",
     "iopub.status.idle": "2024-09-19T06:42:07.162753Z",
     "shell.execute_reply": "2024-09-19T06:42:07.161757Z",
     "shell.execute_reply.started": "2024-09-19T06:42:07.155810Z"
    }
   },
   "outputs": [],
   "source": [
    "data = ((\"Real Madrid\", \"Madrid\", 15), (\"Barcelona\", \"Barcelona\", 5), (\"Ac Milan\", \"Milan\", 7))"
   ]
  },
  {
   "cell_type": "code",
   "execution_count": 6,
   "id": "cf3b58de-85e1-4996-8231-51d463b65e46",
   "metadata": {
    "execution": {
     "iopub.execute_input": "2024-09-19T06:42:50.837545Z",
     "iopub.status.busy": "2024-09-19T06:42:50.836544Z",
     "iopub.status.idle": "2024-09-19T06:42:50.850542Z",
     "shell.execute_reply": "2024-09-19T06:42:50.849542Z",
     "shell.execute_reply.started": "2024-09-19T06:42:50.837545Z"
    }
   },
   "outputs": [
    {
     "data": {
      "text/plain": [
       "<sqlite3.Cursor at 0x1e57a403cc0>"
      ]
     },
     "execution_count": 6,
     "metadata": {},
     "output_type": "execute_result"
    }
   ],
   "source": [
    "new_cur.executemany(\"INSERT INTO clubs VALUES (?, ?, ?);\", data)"
   ]
  },
  {
   "cell_type": "code",
   "execution_count": 7,
   "id": "373a0fd3-0f87-455f-9043-042d7fdae21f",
   "metadata": {
    "execution": {
     "iopub.execute_input": "2024-09-19T06:45:54.180416Z",
     "iopub.status.busy": "2024-09-19T06:45:54.179418Z",
     "iopub.status.idle": "2024-09-19T06:45:54.192119Z",
     "shell.execute_reply": "2024-09-19T06:45:54.191090Z",
     "shell.execute_reply.started": "2024-09-19T06:45:54.180416Z"
    }
   },
   "outputs": [
    {
     "data": {
      "text/plain": [
       "<sqlite3.Cursor at 0x1e57a403cc0>"
      ]
     },
     "execution_count": 7,
     "metadata": {},
     "output_type": "execute_result"
    }
   ],
   "source": [
    "new_cur.execute(\"SELECT * FROM clubs;\")"
   ]
  },
  {
   "cell_type": "code",
   "execution_count": 8,
   "id": "934d65d8-2332-470f-9224-e15794c308fb",
   "metadata": {
    "execution": {
     "iopub.execute_input": "2024-09-19T06:45:54.868292Z",
     "iopub.status.busy": "2024-09-19T06:45:54.867293Z",
     "iopub.status.idle": "2024-09-19T06:45:54.875119Z",
     "shell.execute_reply": "2024-09-19T06:45:54.874099Z",
     "shell.execute_reply.started": "2024-09-19T06:45:54.867293Z"
    }
   },
   "outputs": [
    {
     "name": "stdout",
     "output_type": "stream",
     "text": [
      "('Real Madrid', 'Madrid', 15)\n",
      "('Barcelona', 'Barcelona', 5)\n",
      "('Ac Milan', 'Milan', 7)\n"
     ]
    }
   ],
   "source": [
    "for x in new_cur.fetchall():\n",
    "    print(x)"
   ]
  },
  {
   "cell_type": "code",
   "execution_count": 9,
   "id": "d16dc28b-6728-45f0-9257-457b33a50eba",
   "metadata": {
    "execution": {
     "iopub.execute_input": "2024-09-19T06:46:23.215946Z",
     "iopub.status.busy": "2024-09-19T06:46:23.214946Z",
     "iopub.status.idle": "2024-09-19T06:46:23.226029Z",
     "shell.execute_reply": "2024-09-19T06:46:23.225003Z",
     "shell.execute_reply.started": "2024-09-19T06:46:23.215946Z"
    }
   },
   "outputs": [],
   "source": [
    "new_conn.commit()"
   ]
  },
  {
   "cell_type": "code",
   "execution_count": 10,
   "id": "0aedefff-2442-4458-9984-e341a882eec4",
   "metadata": {
    "execution": {
     "iopub.execute_input": "2024-09-19T06:46:29.705139Z",
     "iopub.status.busy": "2024-09-19T06:46:29.704140Z",
     "iopub.status.idle": "2024-09-19T06:46:29.712488Z",
     "shell.execute_reply": "2024-09-19T06:46:29.711458Z",
     "shell.execute_reply.started": "2024-09-19T06:46:29.705139Z"
    }
   },
   "outputs": [],
   "source": [
    "new_conn.close()"
   ]
  }
 ],
 "metadata": {
  "kernelspec": {
   "display_name": "Python 3 (ipykernel)",
   "language": "python",
   "name": "python3"
  },
  "language_info": {
   "codemirror_mode": {
    "name": "ipython",
    "version": 3
   },
   "file_extension": ".py",
   "mimetype": "text/x-python",
   "name": "python",
   "nbconvert_exporter": "python",
   "pygments_lexer": "ipython3",
   "version": "3.12.5"
  }
 },
 "nbformat": 4,
 "nbformat_minor": 5
}
